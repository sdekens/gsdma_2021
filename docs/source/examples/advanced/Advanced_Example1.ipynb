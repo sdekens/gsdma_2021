{
 "cells": [
  {
   "cell_type": "markdown",
   "id": "8a6abcb5",
   "metadata": {},
   "source": [
    "# Example 1: An advanced example notebook"
   ]
  },
  {
   "cell_type": "code",
   "execution_count": 1,
   "id": "60b69616",
   "metadata": {},
   "outputs": [],
   "source": [
    "from IPython import display\n",
    "import os"
   ]
  },
  {
   "cell_type": "code",
   "execution_count": 2,
   "id": "c79c21c1",
   "metadata": {},
   "outputs": [
    {
     "name": "stdout",
     "output_type": "stream",
     "text": [
      "This is an example notebook\n"
     ]
    }
   ],
   "source": [
    "print(\"This is an example notebook\")"
   ]
  },
  {
   "cell_type": "code",
   "execution_count": 3,
   "id": "dd408603",
   "metadata": {},
   "outputs": [],
   "source": [
    "cur_dir = os.getcwd()\n",
    "parent_dir = os.path.dirname(os.path.dirname(cur_dir))"
   ]
  },
  {
   "cell_type": "markdown",
   "id": "85755f49",
   "metadata": {},
   "source": [
    "The last cell has this info in the cell metadata"
   ]
  },
  {
   "cell_type": "markdown",
   "id": "09d4982b",
   "metadata": {},
   "source": [
    "{\n",
    "    \"nbsphinx-thumbnail\": {\n",
    "        \"tooltip\": \"This tooltip message was defined in cell metadata\"\n",
    "    }\n",
    "}"
   ]
  },
  {
   "cell_type": "code",
   "execution_count": 4,
   "id": "8c7aa394",
   "metadata": {
    "nbsphinx-thumbnail": {
     "tooltip": "This tooltip message was defined in cell metadata"
    }
   },
   "outputs": [
    {
     "data": {
      "image/png": "[encoded data removed]",
      "text/plain": [
       "<IPython.core.display.Image object>"
      ]
     },
     "execution_count": 4,
     "metadata": {},
     "output_type": "execute_result"
    }
   ],
   "source": [
    "display.Image(f'{parent_dir}/_static/logo.png')"
   ]
  }
 ],
 "metadata": {
  "kernelspec": {
   "display_name": "Python 3",
   "language": "python",
   "name": "python3"
  },
  "language_info": {
   "codemirror_mode": {
    "name": "ipython",
    "version": 3
   },
   "file_extension": ".py",
   "mimetype": "text/x-python",
   "name": "python",
   "nbconvert_exporter": "python",
   "pygments_lexer": "ipython3",
   "version": "3.8.5"
  }
 },
 "nbformat": 4,
 "nbformat_minor": 5
}
