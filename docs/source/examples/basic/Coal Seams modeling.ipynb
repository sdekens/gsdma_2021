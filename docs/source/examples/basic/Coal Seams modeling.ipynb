{
 "cells": [
  {
   "cell_type": "markdown",
   "id": "c19bbef0",
   "metadata": {},
   "source": [
    "# Coal seams"
   ]
  },
  {
   "cell_type": "code",
   "execution_count": 6,
   "id": "7a772bc3",
   "metadata": {},
   "outputs": [],
   "source": [
    "import matplotlib as mplt\n",
    "import geopandas as gpd"
   ]
  },
  {
   "cell_type": "code",
   "execution_count": 7,
   "id": "15620d75",
   "metadata": {},
   "outputs": [],
   "source": [
    "from geometron.geom_to_vtk import gdf_to_ug"
   ]
  },
  {
   "cell_type": "markdown",
   "id": "eb55c92b",
   "metadata": {},
   "source": [
    "Importation of the geopackage into a geodatframe"
   ]
  },
  {
   "cell_type": "code",
   "execution_count": 8,
   "id": "520e0a7d",
   "metadata": {},
   "outputs": [],
   "source": [
    "gdf = gpd.read_file('../../../../data/Parties exploitées - Caillette.gpkg')"
   ]
  },
  {
   "cell_type": "markdown",
   "id": "22b2593e",
   "metadata": {},
   "source": [
    "Conversion of the geodataframe into an unstructured grid"
   ]
  },
  {
   "cell_type": "code",
   "execution_count": 9,
   "id": "7d8f1021",
   "metadata": {},
   "outputs": [
    {
     "data": {
      "text/html": [
       "<table><tr><th>Header</th><th>Data Arrays</th></tr><tr><td>\n",
       "<table>\n",
       "<tr><th>UnstructuredGrid</th><th>Information</th></tr>\n",
       "<tr><td>N Cells</td><td>283</td></tr>\n",
       "<tr><td>N Points</td><td>4577</td></tr>\n",
       "<tr><td>X Bounds</td><td>1.518e+05, 1.578e+05</td></tr>\n",
       "<tr><td>Y Bounds</td><td>1.215e+05, 1.252e+05</td></tr>\n",
       "<tr><td>Z Bounds</td><td>-1.078e+03, -2.070e+02</td></tr>\n",
       "<tr><td>N Arrays</td><td>1</td></tr>\n",
       "</table>\n",
       "\n",
       "</td><td>\n",
       "<table>\n",
       "<tr><th>Name</th><th>Field</th><th>Type</th><th>N Comp</th><th>Min</th><th>Max</th></tr>\n",
       "<tr><td><b>Elevation</b></td><td>Points</td><td>float64</td><td>1</td><td>-1.078e+03</td><td>-2.070e+02</td></tr>\n",
       "</table>\n",
       "\n",
       "</td></tr> </table>"
      ],
      "text/plain": [
       "UnstructuredGrid (0x7f61acaada00)\n",
       "  N Cells:\t283\n",
       "  N Points:\t4577\n",
       "  X Bounds:\t1.518e+05, 1.578e+05\n",
       "  Y Bounds:\t1.215e+05, 1.252e+05\n",
       "  Z Bounds:\t-1.078e+03, -2.070e+02\n",
       "  N Arrays:\t1"
      ]
     },
     "execution_count": 9,
     "metadata": {},
     "output_type": "execute_result"
    }
   ],
   "source": [
    "ug = gdf_to_ug(gdf)\n",
    "ug"
   ]
  },
  {
   "cell_type": "markdown",
   "id": "a2ddc957",
   "metadata": {},
   "source": [
    "Plotting of the ug"
   ]
  },
  {
   "cell_type": "code",
   "execution_count": 1,
   "id": "9039711b",
   "metadata": {
    "nbsphinx-thumbnail": {
     "tooltip": "This tooltip message was defined in cell metadata"
    }
   },
   "outputs": [],
   "source": [
    "dargs = dict(scalars='Elevation', cmap='rainbow', show_edges=True, window_size=(1024,480))\n",
    "\n",
    "#ug.plot(jupyter_backend='static', color='w', style='surface', interpolate_before_map=True, scalar_bar_args={'title': 'Elevation'}, **dargs)"
   ]
  },
  {
   "cell_type": "code",
   "execution_count": null,
   "id": "8a476fae-a8b0-4550-80e8-4f54f7efd3ec",
   "metadata": {},
   "outputs": [],
   "source": []
  }
 ],
 "metadata": {
  "celltoolbar": "Éditer les Méta-Données",
  "kernelspec": {
   "display_name": "Python 3",
   "language": "python",
   "name": "python3"
  },
  "language_info": {
   "codemirror_mode": {
    "name": "ipython",
    "version": 3
   },
   "file_extension": ".py",
   "mimetype": "text/x-python",
   "name": "python",
   "nbconvert_exporter": "python",
   "pygments_lexer": "ipython3",
   "version": "3.8.3"
  }
 },
 "nbformat": 4,
 "nbformat_minor": 5
}
